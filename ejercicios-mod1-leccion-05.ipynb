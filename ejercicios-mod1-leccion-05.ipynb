{
 "cells": [
  {
   "cell_type": "markdown",
   "metadata": {},
   "source": [
    "### Ejericios bucles for"
   ]
  },
  {
   "cell_type": "markdown",
   "metadata": {},
   "source": [
    "1# Imprimir los números del 1 al 5 utilizando un bucle for\n",
    "Descripción: Utiliza un bucle for para imprimir los números del 1 al 5 (incluido) en orden ascendente."
   ]
  },
  {
   "cell_type": "code",
   "execution_count": 27,
   "metadata": {},
   "outputs": [
    {
     "name": "stdout",
     "output_type": "stream",
     "text": [
      "1\n",
      "2\n",
      "3\n",
      "4\n",
      "5\n"
     ]
    }
   ],
   "source": [
    "\n",
    "for num in range(1, 6):\n",
    "    print(num)\n"
   ]
  },
  {
   "cell_type": "markdown",
   "metadata": {},
   "source": [
    "2# Calcular la suma de los primeros 10 números naturales utilizando un bucle for\n",
    "\n",
    "Descripción: Utiliza un bucle for para calcular la suma de los primeros 10 números naturales (1 + 2 + 3 + ... + 10)."
   ]
  },
  {
   "cell_type": "code",
   "execution_count": 28,
   "metadata": {},
   "outputs": [
    {
     "name": "stdout",
     "output_type": "stream",
     "text": [
      "55\n"
     ]
    }
   ],
   "source": [
    "suma=0\n",
    "\n",
    "for num in range (1, 11):\n",
    "    suma += num\n",
    "\n",
    "print(suma)\n"
   ]
  },
  {
   "cell_type": "markdown",
   "metadata": {},
   "source": [
    "3# Calcular el producto de los elementos de una lista.\n",
    "\n",
    "Descripción: Dada una lista de números, utiliza un bucle for para calcular el producto de todos los elementos."
   ]
  },
  {
   "cell_type": "code",
   "execution_count": 29,
   "metadata": {},
   "outputs": [
    {
     "name": "stdout",
     "output_type": "stream",
     "text": [
      "1440\n"
     ]
    }
   ],
   "source": [
    "mi_lista=[2, 3, 5, 6, 8]\n",
    "producto=1\n",
    "\n",
    "for num in mi_lista:\n",
    "    producto*=num\n",
    "\n",
    "print(producto)"
   ]
  },
  {
   "cell_type": "markdown",
   "metadata": {},
   "source": [
    "4# Imprimir los caracteres de una cadena de texto\n",
    "\n",
    "Descripción: Dada una cadena de texto, utiliza un bucle for para imprimir cada carácter en una línea separada."
   ]
  },
  {
   "cell_type": "code",
   "execution_count": 30,
   "metadata": {},
   "outputs": [
    {
     "name": "stdout",
     "output_type": "stream",
     "text": [
      "H\n",
      "o\n",
      "l\n",
      "a\n",
      " \n",
      "c\n",
      "a\n",
      "r\n",
      "a\n",
      "c\n",
      "o\n",
      "l\n",
      "a\n",
      "!\n",
      ",\n",
      " \n",
      "H\n",
      "o\n",
      "l\n",
      "a\n",
      " \n",
      "c\n",
      "a\n",
      "u\n",
      "s\n",
      "a\n",
      "!\n"
     ]
    }
   ],
   "source": [
    "texto='Hola caracola!, Hola causa!'\n",
    "\n",
    "for letra in texto:\n",
    "    print(letra)"
   ]
  },
  {
   "cell_type": "markdown",
   "metadata": {},
   "source": [
    "5# Imprimir los números pares del 1 al 100 utilizando un bucle for\n",
    "\n",
    "Descripción: Utiliza un bucle for para imprimir los números pares del 1 al 100 en orden ascendente."
   ]
  },
  {
   "cell_type": "code",
   "execution_count": 31,
   "metadata": {},
   "outputs": [
    {
     "name": "stdout",
     "output_type": "stream",
     "text": [
      "2\n",
      "4\n",
      "6\n",
      "8\n",
      "10\n",
      "12\n",
      "14\n",
      "16\n",
      "18\n",
      "20\n",
      "22\n",
      "24\n",
      "26\n",
      "28\n",
      "30\n",
      "32\n",
      "34\n",
      "36\n",
      "38\n",
      "40\n",
      "42\n",
      "44\n",
      "46\n",
      "48\n",
      "50\n",
      "52\n",
      "54\n",
      "56\n",
      "58\n",
      "60\n",
      "62\n",
      "64\n",
      "66\n",
      "68\n",
      "70\n",
      "72\n",
      "74\n",
      "76\n",
      "78\n",
      "80\n",
      "82\n",
      "84\n",
      "86\n",
      "88\n",
      "90\n",
      "92\n",
      "94\n",
      "96\n",
      "98\n",
      "100\n"
     ]
    }
   ],
   "source": [
    "\n",
    "for num in range (1, 101):\n",
    "    if num % 2 == 0:\n",
    "        print(num)\n"
   ]
  },
  {
   "cell_type": "markdown",
   "metadata": {},
   "source": [
    "6# Imprimir los números primos del 1 al 50 utilizando un bucle for.\n",
    "\n",
    "Descripción: Utiliza un bucle for para imprimir los números primos del 1 al 50 en orden ascendente.\n",
    "\n",
    "NOTA: Según la Wikipedia, un número primo es un número natural mayor que 1 que no tiene divisores positivos más que 1 y él mismo."
   ]
  },
  {
   "cell_type": "code",
   "execution_count": 14,
   "metadata": {},
   "outputs": [
    {
     "name": "stdout",
     "output_type": "stream",
     "text": [
      "[2, 3, 5, 7, 11, 13, 17, 19, 23, 29, 31, 37, 41, 43, 47]\n"
     ]
    }
   ],
   "source": [
    "primos = []\n",
    "\n",
    "for i in range(2, 51):\n",
    "    primo = True\n",
    "    for n in range(2,i):\n",
    "        if i % n == 0:\n",
    "            primo = False\n",
    "            break\n",
    "    if primo:\n",
    "        primos.append(i)\n",
    "    \n",
    "print(primos)\n",
    "            "
   ]
  },
  {
   "cell_type": "code",
   "execution_count": 17,
   "metadata": {},
   "outputs": [
    {
     "name": "stdout",
     "output_type": "stream",
     "text": [
      "[2, 3, 5, 7, 11, 13, 17, 19, 23, 29, 31, 37, 41, 43, 47]\n"
     ]
    }
   ],
   "source": [
    "# Lo mismo, pero con list comprehension\n",
    "\n",
    "primos_2 = [i for i in range(2, 51) if all(i % n != 0 for n in range(2, i))]\n",
    "print(primos_2)"
   ]
  },
  {
   "cell_type": "code",
   "execution_count": null,
   "metadata": {},
   "outputs": [],
   "source": [
    "# chat GTP\n",
    "\n",
    "def es_primo(numero):\n",
    "    \n",
    "    if numero <= 1:\n",
    "        return False  # Los números menores o iguales a 1 no son primos\n",
    "    for i in range(2, int(numero**0.5) + 1):\n",
    "        if numero % i == 0:\n",
    "            return False  # Si es divisible por algún número, no es primo\n",
    "    return True  # Si no es divisible por ningún número, es primo\n",
    "\n",
    "# Bucle for para iterar del 1 al 50\n",
    "for numero in range(1, 51):\n",
    "    if es_primo(numero):\n",
    "        print(numero)"
   ]
  },
  {
   "cell_type": "markdown",
   "metadata": {},
   "source": [
    "7# Calcular el factorial de un número utilizando un bucle for\n",
    "\n",
    "Descripción: Dado un número entero positivo, calcula su factorial utilizando un bucle for."
   ]
  },
  {
   "cell_type": "code",
   "execution_count": 6,
   "metadata": {},
   "outputs": [
    {
     "name": "stdout",
     "output_type": "stream",
     "text": [
      "24\n"
     ]
    }
   ],
   "source": [
    "num=int(input(\"Introduce un numero entero positivo:\"))\n",
    "prod=1\n",
    "\n",
    "for n in range(1,num+1):\n",
    "    prod*=n\n",
    "\n",
    "print(prod)"
   ]
  },
  {
   "cell_type": "markdown",
   "metadata": {},
   "source": [
    "8# Juego de adivinar palabras utilizando un bucle for\n",
    "\n",
    "Descripción: Crea un juego en el que el jugador debe adivinar una palabra secreta. El jugador tiene un número limitado de intentos y se le proporcionan pistas después de cada intento. Utiliza un bucle for para controlar los intentos del jugador."
   ]
  },
  {
   "cell_type": "code",
   "execution_count": 28,
   "metadata": {},
   "outputs": [
    {
     "name": "stdout",
     "output_type": "stream",
     "text": [
      "_  _  _  _  _  _  _\n",
      "Es una fruta\n",
      "----------------------------------------\n",
      "❌ Palabra \"mero\" incorrecta. Te quedan 3 intentos.\n",
      "Pista: Es una fruta. Empieza por la letra p\n",
      "----------------------------------------\n",
      "❌ Palabra \"trucha\" incorrecta. Te quedan 2 intentos.\n",
      "Pista: Es una fruta. Empieza por la letra p\n",
      "----------------------------------------\n",
      "❌ Palabra \"jarra\" incorrecta. Te quedan 1 intentos.\n",
      "Pista: Es una fruta. Empieza por la letra p\n",
      "----------------------------------------\n",
      "❌ Palabra \"platan\" incorrecta. Te quedan 0 intentos.\n",
      "Pista: Es una fruta. Empieza por la letra p\n",
      "Has perdido. La palabra secreta era: platano\n"
     ]
    }
   ],
   "source": [
    "import random\n",
    "lista_palabras = ['uva', 'naranja', 'manzana', 'platano']\n",
    "palabra_secreta = random.choice(lista_palabras)\n",
    "\n",
    "def transformar_a_guiones(palabra_secreta):\n",
    "    return [\"_\"] * len(palabra_secreta)\n",
    "\n",
    "print ((\"  \").join(transformar_a_guiones(palabra_secreta)))\n",
    "\n",
    "print (\"Es una fruta\")\n",
    "\n",
    "resultado_juego = transformar_a_guiones(palabra_secreta)\n",
    "intentos = 4\n",
    "\n",
    "def buscador_palabra_secreta():\n",
    "    global intentos # necesitamos que la variable sea global para que pueda hacer asociación con el valor inicial de vidas = 6\n",
    "    palabra = input(\"Introduce una palabra: \").lower().strip()\n",
    "    \n",
    "    print('-'* 40 )\n",
    "\n",
    "    if palabra == palabra_secreta:\n",
    "        print(f'✅¡Palabra \"{palabra}\" correcta!')\n",
    "        intentos=0\n",
    "        return palabra\n",
    "    else:\n",
    "        intentos -= 1\n",
    "        print(f'❌ Palabra \"{palabra}\" incorrecta. Te quedan {intentos} intentos.')\n",
    "        print(f\"Pista: Es una fruta. Empieza por la letra {palabra_secreta[0]}\" )\n",
    "\n",
    "    \n",
    "# Bucle del juego hasta que se acaben las vidas o se complete la palabra\n",
    "while intentos > 0:\n",
    "    resultado = buscador_palabra_secreta()\n",
    "\n",
    "    if resultado==palabra_secreta:\n",
    "       break\n",
    "\n",
    "    elif intentos==0:\n",
    "        print(\"Has perdido. La palabra secreta era:\", palabra_secreta)"
   ]
  }
 ],
 "metadata": {
  "kernelspec": {
   "display_name": "Python 3",
   "language": "python",
   "name": "python3"
  },
  "language_info": {
   "codemirror_mode": {
    "name": "ipython",
    "version": 3
   },
   "file_extension": ".py",
   "mimetype": "text/x-python",
   "name": "python",
   "nbconvert_exporter": "python",
   "pygments_lexer": "ipython3",
   "version": "3.11.9"
  }
 },
 "nbformat": 4,
 "nbformat_minor": 2
}
