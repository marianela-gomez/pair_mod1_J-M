{
 "cells": [
  {
   "cell_type": "markdown",
   "metadata": {},
   "source": [
    "1. Calcular el área de un círculo.\n",
    "\n",
    "    Descripción: Crea una función llamada calcular_area_circulo que tome el radio como parámetro y devuelva el área del círculo."
   ]
  },
  {
   "cell_type": "code",
   "execution_count": 2,
   "metadata": {},
   "outputs": [],
   "source": [
    "# Esta librería es para tener la variable pi\n",
    "import math\n",
    "\n",
    "def calcular_area_circulo(radio):\n",
    "    \n",
    "    area = math.pi * radio ** 2\n",
    "    \n",
    "    return area\n",
    "\n"
   ]
  },
  {
   "cell_type": "code",
   "execution_count": 3,
   "metadata": {},
   "outputs": [
    {
     "data": {
      "text/plain": [
       "28.274333882308138"
      ]
     },
     "execution_count": 3,
     "metadata": {},
     "output_type": "execute_result"
    }
   ],
   "source": [
    "calcular_area_circulo(3)"
   ]
  },
  {
   "cell_type": "markdown",
   "metadata": {},
   "source": [
    "2. Contar la cantidad de caracteres en una cadena.\n",
    "\n",
    "    Descripción: Crea una función llamada contar_caracteres que tome una cadena como parámetro y devuelva la cantidad de caracteres que contiene."
   ]
  },
  {
   "cell_type": "code",
   "execution_count": 10,
   "metadata": {},
   "outputs": [],
   "source": [
    "mi_texto = \"Hola, cómo estás Adalaber\"\n",
    "\n",
    "def contar_caracteres(mi_texto):\n",
    "    \n",
    "    contador = 0\n",
    "    \n",
    "    for caracter in mi_texto:\n",
    "        contador += 1\n",
    "    \n",
    "    return contador"
   ]
  },
  {
   "cell_type": "code",
   "execution_count": 12,
   "metadata": {},
   "outputs": [
    {
     "data": {
      "text/plain": [
       "36"
      ]
     },
     "execution_count": 12,
     "metadata": {},
     "output_type": "execute_result"
    }
   ],
   "source": [
    "contar_caracteres(\"Por la mañana café, por la tarde ron\")"
   ]
  },
  {
   "cell_type": "markdown",
   "metadata": {},
   "source": [
    "3. Determinar si una cadena es un palíndromo.\n",
    "\n",
    "    Descripción: Crea una función llamada es_palindromo que tome una cadena como parámetro y devuelva True si es un palíndromo, o False si no lo es."
   ]
  },
  {
   "cell_type": "code",
   "execution_count": null,
   "metadata": {},
   "outputs": [],
   "source": [
    "def es_palindromo(palabra):\n",
    "    \n",
    "    lista_palabra = [letra for letra in palabra] #Esto es lo del bucle for de abajo, pero en list comprehension\n",
    "    \n",
    "    # for letra in palabra:\n",
    "    #     lista_palabra.append(letra)\n",
    "\n",
    "    lista_al_reves = lista_palabra.copy()\n",
    "\n",
    "    lista_al_reves.reverse()\n",
    "\n",
    "    if len(lista_palabra) >= 3 and lista_al_reves == lista_palabra:\n",
    "        print(True)\n",
    "    else:\n",
    "        print(False)\n",
    "    "
   ]
  },
  {
   "cell_type": "code",
   "execution_count": 15,
   "metadata": {},
   "outputs": [
    {
     "name": "stdout",
     "output_type": "stream",
     "text": [
      "False\n"
     ]
    }
   ],
   "source": [
    "es_palindromo(\"am\")"
   ]
  },
  {
   "cell_type": "markdown",
   "metadata": {},
   "source": [
    "4. Calcular el promedio de una lista de números.\n",
    "\n",
    "    Descripción: Crea una función llamada calcular_promedio que tome una lista de números como parámetro y devuelva el promedio de todos sus elementos."
   ]
  },
  {
   "cell_type": "code",
   "execution_count": 17,
   "metadata": {},
   "outputs": [],
   "source": [
    "def calcular_promedio(numeros):\n",
    "    \n",
    "    promedio = sum(numeros) / len(numeros)\n",
    "    \n",
    "    return promedio"
   ]
  },
  {
   "cell_type": "code",
   "execution_count": 18,
   "metadata": {},
   "outputs": [
    {
     "data": {
      "text/plain": [
       "6.0"
      ]
     },
     "execution_count": 18,
     "metadata": {},
     "output_type": "execute_result"
    }
   ],
   "source": [
    "calcular_promedio([3, 5, 4, 12])"
   ]
  },
  {
   "cell_type": "markdown",
   "metadata": {},
   "source": [
    "5. Calcular el interés compuesto.\n",
    "\n",
    "    Descripción: Crea una función llamada calcular_interes_compuesto que tome el capital inicial, la tasa de interés y el número de períodos como parámetros y devuelva el beneficio final después del interés compuesto."
   ]
  },
  {
   "cell_type": "code",
   "execution_count": 22,
   "metadata": {},
   "outputs": [],
   "source": [
    "def calcular_interes_compuesto(capital, tasa_interes, periodo):\n",
    "    \n",
    "    interes_compuesto = capital * (1 + tasa_interes) ** periodo\n",
    "    \n",
    "    return interes_compuesto\n",
    "    "
   ]
  },
  {
   "cell_type": "code",
   "execution_count": null,
   "metadata": {},
   "outputs": [],
   "source": [
    "# Una persona ahorra 1000 euros en un banco que le ofrece una tasa de interes compuesto mensual de 2% , que valor recibira si retira su dinero al cabo de 5 meses?\n",
    "\n",
    "capital = 1000\n",
    "\n",
    "tasa_interes = 0.02\n",
    "\n",
    "periodo = 5\n",
    "\n",
    "total = capital * (1+tasa_interes) ** periodo"
   ]
  },
  {
   "cell_type": "code",
   "execution_count": 24,
   "metadata": {},
   "outputs": [
    {
     "data": {
      "text/plain": [
       "1104.0808032"
      ]
     },
     "execution_count": 24,
     "metadata": {},
     "output_type": "execute_result"
    }
   ],
   "source": [
    "calcular_interes_compuesto(1000, 0.02, 5)"
   ]
  },
  {
   "cell_type": "markdown",
   "metadata": {},
   "source": [
    "8. Concatenar múltiples cadenas de texto\n",
    "\n",
    "    Descripción: Crea una función llamada concatenar_cadenas que tome una cantidad variable de cadenas de texto como argumentos y devuelva una única cadena que contenga la concatenación de todas las cadenas ingresadas."
   ]
  },
  {
   "cell_type": "code",
   "execution_count": null,
   "metadata": {},
   "outputs": [],
   "source": [
    "# Probar a hacerlo con args \n",
    "\n",
    "def concatenar_cadenas (*args):\n",
    "    \n",
    "    "
   ]
  }
 ],
 "metadata": {
  "kernelspec": {
   "display_name": "base",
   "language": "python",
   "name": "python3"
  },
  "language_info": {
   "codemirror_mode": {
    "name": "ipython",
    "version": 3
   },
   "file_extension": ".py",
   "mimetype": "text/x-python",
   "name": "python",
   "nbconvert_exporter": "python",
   "pygments_lexer": "ipython3",
   "version": "3.12.7"
  }
 },
 "nbformat": 4,
 "nbformat_minor": 2
}
