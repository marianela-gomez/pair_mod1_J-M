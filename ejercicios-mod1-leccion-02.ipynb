{
 "cells": [
  {
   "cell_type": "markdown",
   "metadata": {},
   "source": [
    "# Listas"
   ]
  },
  {
   "cell_type": "code",
   "execution_count": 1,
   "metadata": {},
   "outputs": [
    {
     "name": "stdout",
     "output_type": "stream",
     "text": [
      "[1, 3, 5, 7, 1, 3, 5, 7]\n"
     ]
    }
   ],
   "source": [
    "# 1. Duplicar lista \n",
    "lista = [1, 3, 5, 7]\n",
    "\n",
    "lista_2 = lista * 2 \n",
    "\n",
    "print(lista_2)\n",
    "\n"
   ]
  },
  {
   "cell_type": "code",
   "execution_count": 2,
   "metadata": {},
   "outputs": [],
   "source": [
    "# 2. Sumar listas \n",
    "\n",
    "lista_3 = [2, 4, 6, 8]\n",
    "\n",
    "suma_listas = lista + lista_3"
   ]
  },
  {
   "cell_type": "code",
   "execution_count": 3,
   "metadata": {},
   "outputs": [
    {
     "name": "stdout",
     "output_type": "stream",
     "text": [
      "[1, 3, 5, 7, 2, 4, 6, 8]\n"
     ]
    }
   ],
   "source": [
    "print(suma_listas)"
   ]
  },
  {
   "cell_type": "code",
   "execution_count": 4,
   "metadata": {},
   "outputs": [
    {
     "name": "stdout",
     "output_type": "stream",
     "text": [
      "16\n"
     ]
    }
   ],
   "source": [
    "# 3. Sumar elementos de una lista\n",
    "\n",
    "suma_de_elementos = sum(lista)\n",
    "\n",
    "print(suma_de_elementos)"
   ]
  },
  {
   "cell_type": "code",
   "execution_count": 5,
   "metadata": {},
   "outputs": [
    {
     "name": "stdout",
     "output_type": "stream",
     "text": [
      "El valor máximo es:  8\n",
      "El valor máximo es: 8\n"
     ]
    }
   ],
   "source": [
    "# 4. Encontrar valor máximo \n",
    "\n",
    "print('El valor máximo es: ', max(lista_3))\n",
    "print(f'El valor máximo es: {max(lista_3)}')"
   ]
  },
  {
   "cell_type": "code",
   "execution_count": 6,
   "metadata": {},
   "outputs": [
    {
     "name": "stdout",
     "output_type": "stream",
     "text": [
      "¿Cuánto vale a? 7\n"
     ]
    }
   ],
   "source": [
    "a = 7 \n",
    "\n",
    "print(f'¿Cuánto vale a? {a}')"
   ]
  },
  {
   "cell_type": "code",
   "execution_count": 7,
   "metadata": {},
   "outputs": [
    {
     "name": "stdout",
     "output_type": "stream",
     "text": [
      "4\n"
     ]
    }
   ],
   "source": [
    "# 5. Longitud lista \n",
    "\n",
    "print(len(lista_3))"
   ]
  },
  {
   "cell_type": "code",
   "execution_count": 8,
   "metadata": {},
   "outputs": [
    {
     "name": "stdout",
     "output_type": "stream",
     "text": [
      "[1, 3, 5, 7, 2, 4, 6, 8]\n"
     ]
    }
   ],
   "source": [
    "# 6. Encontrar índice \n",
    "\n",
    "print(suma_listas)"
   ]
  },
  {
   "cell_type": "code",
   "execution_count": 9,
   "metadata": {},
   "outputs": [
    {
     "name": "stdout",
     "output_type": "stream",
     "text": [
      "3\n"
     ]
    }
   ],
   "source": [
    "print(suma_listas.index(7))"
   ]
  },
  {
   "cell_type": "code",
   "execution_count": 10,
   "metadata": {},
   "outputs": [
    {
     "name": "stdout",
     "output_type": "stream",
     "text": [
      "[1, 3, 5, 7, 1, 3, 5, 7]\n"
     ]
    }
   ],
   "source": [
    "# 7. Contar ocurrencias de elemento en una lista\n",
    "\n",
    "print(lista_2)"
   ]
  },
  {
   "cell_type": "code",
   "execution_count": 11,
   "metadata": {},
   "outputs": [
    {
     "name": "stdout",
     "output_type": "stream",
     "text": [
      "2\n"
     ]
    }
   ],
   "source": [
    "print(lista_2.count(3))"
   ]
  },
  {
   "cell_type": "code",
   "execution_count": 12,
   "metadata": {},
   "outputs": [
    {
     "name": "stdout",
     "output_type": "stream",
     "text": [
      "['c', 'd', 'e']\n"
     ]
    }
   ],
   "source": [
    "# 8. Sublista de una lista. Dada una lista, crea una nueva lista que contenga los elementos desde el índice 2 hasta el índice 5 (sin incluirlo).\n",
    "\n",
    "mi_lista = [\"a\", \"b\", \"c\", \"d\", \"e\", \"f\"]\n",
    "\n",
    "nueva_lista = mi_lista[2:5]\n",
    "\n",
    "print(nueva_lista)"
   ]
  },
  {
   "cell_type": "code",
   "execution_count": 13,
   "metadata": {},
   "outputs": [
    {
     "name": "stdout",
     "output_type": "stream",
     "text": [
      "['a', 'f']\n"
     ]
    }
   ],
   "source": [
    "# 9 y 10. Obtener último elemento de una lista\n",
    "\n",
    "print(mi_lista[::5])"
   ]
  },
  {
   "cell_type": "code",
   "execution_count": 14,
   "metadata": {},
   "outputs": [
    {
     "name": "stdout",
     "output_type": "stream",
     "text": [
      "f\n",
      "f\n"
     ]
    }
   ],
   "source": [
    "print(mi_lista[5])\n",
    "print(mi_lista[-1])\n"
   ]
  },
  {
   "cell_type": "code",
   "execution_count": 15,
   "metadata": {},
   "outputs": [
    {
     "data": {
      "text/plain": [
       "6"
      ]
     },
     "execution_count": 15,
     "metadata": {},
     "output_type": "execute_result"
    }
   ],
   "source": [
    "len(mi_lista)"
   ]
  },
  {
   "cell_type": "code",
   "execution_count": 16,
   "metadata": {},
   "outputs": [
    {
     "name": "stdout",
     "output_type": "stream",
     "text": [
      "f\n"
     ]
    }
   ],
   "source": [
    "print(mi_lista[len(mi_lista)-1])"
   ]
  },
  {
   "cell_type": "markdown",
   "metadata": {},
   "source": [
    "## Start:Stop:Step\n",
    "\n",
    "mi_lista[comienzo:final:paso]"
   ]
  },
  {
   "cell_type": "code",
   "execution_count": 17,
   "metadata": {},
   "outputs": [
    {
     "name": "stdout",
     "output_type": "stream",
     "text": [
      "['a', 'b', 'c', 'd', 'e', 'f']\n",
      "['b', 'c']\n"
     ]
    }
   ],
   "source": [
    "# 11. Sublista de una lista. Dada una lista, obtén una sublista que contenga los elementos desde el índice 1 hasta el índice 3 (sin incluirlo)\n",
    "\n",
    "print(mi_lista)\n",
    "\n",
    "print(mi_lista[1:3])"
   ]
  },
  {
   "cell_type": "code",
   "execution_count": 18,
   "metadata": {},
   "outputs": [
    {
     "ename": "TypeError",
     "evalue": "'str' object cannot be interpreted as an integer",
     "output_type": "error",
     "traceback": [
      "\u001b[1;31m---------------------------------------------------------------------------\u001b[0m",
      "\u001b[1;31mTypeError\u001b[0m                                 Traceback (most recent call last)",
      "Cell \u001b[1;32mIn[18], line 5\u001b[0m\n\u001b[0;32m      1\u001b[0m \u001b[38;5;66;03m# 12. Reemplazar elemento. Dada una lista, reemplaza el segundo elemento con un nuevo valor\u001b[39;00m\n\u001b[0;32m      3\u001b[0m super_lista \u001b[38;5;241m=\u001b[39m [\u001b[38;5;124m\"\u001b[39m\u001b[38;5;124mMarianela\u001b[39m\u001b[38;5;124m\"\u001b[39m, \u001b[38;5;124m\"\u001b[39m\u001b[38;5;124mJazmin\u001b[39m\u001b[38;5;124m\"\u001b[39m, \u001b[38;5;124m\"\u001b[39m\u001b[38;5;124mCoco\u001b[39m\u001b[38;5;124m\"\u001b[39m, \u001b[38;5;124m\"\u001b[39m\u001b[38;5;124mBenito\u001b[39m\u001b[38;5;124m\"\u001b[39m]\n\u001b[1;32m----> 5\u001b[0m \u001b[38;5;28mprint\u001b[39m(super_lista\u001b[38;5;241m.\u001b[39minsert(\u001b[38;5;124m\"\u001b[39m\u001b[38;5;124mHans\u001b[39m\u001b[38;5;124m\"\u001b[39m, \u001b[38;5;124m\"\u001b[39m\u001b[38;5;124mJazmin\u001b[39m\u001b[38;5;124m\"\u001b[39m))\n",
      "\u001b[1;31mTypeError\u001b[0m: 'str' object cannot be interpreted as an integer"
     ]
    }
   ],
   "source": [
    "# 12. Reemplazar elemento. Dada una lista, reemplaza el segundo elemento con un nuevo valor\n",
    "\n",
    "super_lista = [\"Marianela\", \"Jazmin\", \"Coco\", \"Benito\"]\n",
    "\n",
    "print(super_lista.insert(\"Hans\", \"Jazmin\"))"
   ]
  },
  {
   "cell_type": "code",
   "execution_count": 19,
   "metadata": {},
   "outputs": [
    {
     "name": "stdout",
     "output_type": "stream",
     "text": [
      "None\n"
     ]
    }
   ],
   "source": [
    "print(super_lista.insert(1, \"Hans\"))"
   ]
  },
  {
   "cell_type": "code",
   "execution_count": 20,
   "metadata": {},
   "outputs": [
    {
     "name": "stdout",
     "output_type": "stream",
     "text": [
      "['Marianela', 'Hans', 'Jazmin', 'Coco', 'Benito']\n"
     ]
    }
   ],
   "source": [
    "print(super_lista)"
   ]
  },
  {
   "cell_type": "code",
   "execution_count": 21,
   "metadata": {},
   "outputs": [
    {
     "name": "stdout",
     "output_type": "stream",
     "text": [
      "['Marianela', 'Hans', 'Jazmin', 'Coco', 'Benito']\n"
     ]
    }
   ],
   "source": [
    "super_lista[1] = \"Hans\"\n",
    "\n",
    "print(super_lista)"
   ]
  },
  {
   "cell_type": "code",
   "execution_count": 22,
   "metadata": {},
   "outputs": [
    {
     "ename": "TypeError",
     "evalue": "unsupported operand type(s) for -: 'list' and 'str'",
     "output_type": "error",
     "traceback": [
      "\u001b[1;31m---------------------------------------------------------------------------\u001b[0m",
      "\u001b[1;31mTypeError\u001b[0m                                 Traceback (most recent call last)",
      "Cell \u001b[1;32mIn[22], line 1\u001b[0m\n\u001b[1;32m----> 1\u001b[0m super_lista2 \u001b[38;5;241m=\u001b[39m super_lista \u001b[38;5;241m-\u001b[39m \u001b[38;5;124m\"\u001b[39m\u001b[38;5;124mJazmin\u001b[39m\u001b[38;5;124m\"\u001b[39m\n",
      "\u001b[1;31mTypeError\u001b[0m: unsupported operand type(s) for -: 'list' and 'str'"
     ]
    }
   ],
   "source": [
    "super_lista2 = super_lista - \"Jazmin\""
   ]
  },
  {
   "cell_type": "code",
   "execution_count": 23,
   "metadata": {},
   "outputs": [
    {
     "name": "stdout",
     "output_type": "stream",
     "text": [
      "['Marianela', 'Hans', 'Coco', 'Benito']\n"
     ]
    }
   ],
   "source": [
    "super_lista.remove(\"Jazmin\")\n",
    "\n",
    "print(super_lista)"
   ]
  },
  {
   "cell_type": "code",
   "execution_count": 25,
   "metadata": {},
   "outputs": [
    {
     "ename": "AttributeError",
     "evalue": "'list' object has no attribute 'replace'",
     "output_type": "error",
     "traceback": [
      "\u001b[1;31m---------------------------------------------------------------------------\u001b[0m",
      "\u001b[1;31mAttributeError\u001b[0m                            Traceback (most recent call last)",
      "Cell \u001b[1;32mIn[25], line 1\u001b[0m\n\u001b[1;32m----> 1\u001b[0m super_lista\u001b[38;5;241m.\u001b[39mreplace(\u001b[38;5;124m\"\u001b[39m\u001b[38;5;124mBenito\u001b[39m\u001b[38;5;124m\"\u001b[39m, \u001b[38;5;124m\"\u001b[39m\u001b[38;5;124mCesar\u001b[39m\u001b[38;5;124m\"\u001b[39m)\n",
      "\u001b[1;31mAttributeError\u001b[0m: 'list' object has no attribute 'replace'"
     ]
    }
   ],
   "source": [
    "\n",
    "super_lista.replace(\"Benito\", \"Cesar\")"
   ]
  },
  {
   "cell_type": "code",
   "execution_count": 26,
   "metadata": {},
   "outputs": [],
   "source": [
    "# Obtener una lista inversa.  Dada una lista, obtén una nueva lista que contenga los elementos en orden inverso.\n",
    "\n",
    "super_lista.reverse()"
   ]
  },
  {
   "cell_type": "code",
   "execution_count": 27,
   "metadata": {},
   "outputs": [
    {
     "name": "stdout",
     "output_type": "stream",
     "text": [
      "['Benito', 'Coco', 'Hans', 'Marianela']\n"
     ]
    }
   ],
   "source": [
    "print(super_lista)"
   ]
  },
  {
   "cell_type": "code",
   "execution_count": 28,
   "metadata": {},
   "outputs": [
    {
     "name": "stdout",
     "output_type": "stream",
     "text": [
      "['Benito', 'Coco', 'Hans', 'Marianela']\n"
     ]
    }
   ],
   "source": [
    "super_lista[::-1]\n",
    "\n",
    "print(super_lista)"
   ]
  },
  {
   "cell_type": "code",
   "execution_count": 29,
   "metadata": {},
   "outputs": [
    {
     "name": "stdout",
     "output_type": "stream",
     "text": [
      "['Benito', 'Coco', 'Hans', 'Marianela']\n"
     ]
    }
   ],
   "source": [
    "super_lista2 = super_lista.copy()\n",
    "\n",
    "super_lista2[::-2]\n",
    "\n",
    "print(super_lista2)"
   ]
  },
  {
   "cell_type": "code",
   "execution_count": 30,
   "metadata": {},
   "outputs": [
    {
     "name": "stdout",
     "output_type": "stream",
     "text": [
      "[1, 7, 32, 45, 89]\n"
     ]
    }
   ],
   "source": [
    "# 14. Ordenar una lista en orden ascendente. Descripción: Dada una lista de números, ordénala en orden ascendente.\n",
    "\n",
    "lista_numeros = [45, 32, 1, 7, 89]\n",
    "\n",
    "lista_numeros.sort()\n",
    "\n",
    "print(lista_numeros)"
   ]
  },
  {
   "cell_type": "markdown",
   "metadata": {},
   "source": [
    "# Ejercicios Bonus"
   ]
  },
  {
   "cell_type": "code",
   "execution_count": 31,
   "metadata": {},
   "outputs": [
    {
     "name": "stdout",
     "output_type": "stream",
     "text": [
      "Las posiciones pares tienen los elementos: [1, 32, 89]\n"
     ]
    }
   ],
   "source": [
    "# 15. Obtener elementos pares de una lista. Descripción: Dada una lista, obtén una nueva lista que contenga solo los elementos en posiciones pares.\n",
    "\n",
    "print('Las posiciones pares tienen los elementos:', lista_numeros[::2])"
   ]
  },
  {
   "cell_type": "code",
   "execution_count": 32,
   "metadata": {},
   "outputs": [
    {
     "name": "stdout",
     "output_type": "stream",
     "text": [
      "[1, 45]\n"
     ]
    }
   ],
   "source": [
    "# 16. Obtener una sublista saltando elementos. Descripción: Dada una lista, obtén una sublista que contenga los elementos saltando de 3 en 3.\n",
    "\n",
    "print(lista_numeros[::3])"
   ]
  },
  {
   "cell_type": "code",
   "execution_count": 33,
   "metadata": {},
   "outputs": [
    {
     "name": "stdout",
     "output_type": "stream",
     "text": [
      "[89, 45, 32, 7, 1]\n"
     ]
    }
   ],
   "source": [
    "# 17. Encontrar el segundo valor máximo en una lista. Descripción: Dada una lista de números, encuentra el segundo valor máximo.\n",
    "\n",
    "lista_numeros_ordenada = sorted(lista_numeros, reverse=True)\n",
    "\n",
    "print(lista_numeros_ordenada)"
   ]
  },
  {
   "cell_type": "code",
   "execution_count": 34,
   "metadata": {},
   "outputs": [
    {
     "name": "stdout",
     "output_type": "stream",
     "text": [
      "45\n"
     ]
    }
   ],
   "source": [
    "print(lista_numeros_ordenada[1])"
   ]
  },
  {
   "cell_type": "code",
   "execution_count": 35,
   "metadata": {},
   "outputs": [
    {
     "name": "stdout",
     "output_type": "stream",
     "text": [
      "[1, 7, 32, 45, 89]\n"
     ]
    }
   ],
   "source": [
    "print(lista_numeros)"
   ]
  },
  {
   "cell_type": "markdown",
   "metadata": {},
   "source": [
    "### Ejercicio 18. Teórico. Debereis contestar la pregunta en una celda de markdown. Descripción: ¿Qué diferencia existe entre el .sort() y el sorted()\n",
    "\n",
    "- sort() --> Modifica la lista original. La sintaxis es lista.sort().\n",
    "- sorted() --> NO modifica la lista original. La sintaxis es sorted(lista)."
   ]
  },
  {
   "cell_type": "code",
   "execution_count": 37,
   "metadata": {},
   "outputs": [],
   "source": [
    "# 19. Agregar elementos a una lista utilizando append y extend \n",
    "# Descripción: Dada una lista inicial, agrega nuevos elementos utilizando tanto append como extend y observa las diferencias en el resultado final.\n",
    "# El elemento que deberéis usar para añadir a la lista original tiene que ser una lista.\n",
    "\n",
    "lista_inicial = [\"a\", \"ante\", \"bajo\", \"con\", \"contra\", \"desde\"]\n",
    "\n",
    "nuevos_elementos = [\"para\", \"por\"]"
   ]
  },
  {
   "cell_type": "code",
   "execution_count": 39,
   "metadata": {},
   "outputs": [
    {
     "name": "stdout",
     "output_type": "stream",
     "text": [
      "['a', 'ante', 'bajo', 'con', 'contra', 'desde', ['para', 'por']]\n"
     ]
    }
   ],
   "source": [
    "# Usando append\n",
    "\n",
    "lista_inicial1 = lista_inicial.copy()\n",
    "\n",
    "lista_inicial1.append(nuevos_elementos)\n",
    "\n",
    "print(lista_inicial1)"
   ]
  },
  {
   "cell_type": "code",
   "execution_count": 40,
   "metadata": {},
   "outputs": [
    {
     "name": "stdout",
     "output_type": "stream",
     "text": [
      "['a', 'ante', 'bajo', 'con', 'contra', 'desde', 'lo que me de la gana']\n"
     ]
    }
   ],
   "source": [
    "nuevos_elementos2 = \"lo que me de la gana\"\n",
    "\n",
    "lista_inicial.append(nuevos_elementos2)\n",
    "\n",
    "print(lista_inicial)"
   ]
  },
  {
   "cell_type": "code",
   "execution_count": 41,
   "metadata": {},
   "outputs": [
    {
     "name": "stdout",
     "output_type": "stream",
     "text": [
      "['a', 'ante', 'bajo', 'con', 'contra', 'desde', 'lo que me de la gana', [1, 2, 3]]\n"
     ]
    }
   ],
   "source": [
    "nuevos_elementos3 = [1, 2, 3]\n",
    "\n",
    "lista_inicial.append(nuevos_elementos3)\n",
    "\n",
    "print(lista_inicial)"
   ]
  },
  {
   "cell_type": "code",
   "execution_count": 42,
   "metadata": {},
   "outputs": [
    {
     "name": "stdout",
     "output_type": "stream",
     "text": [
      "['a', 'ante', 'bajo', 'con', 'contra', 'desde', 'lo que me de la gana', [1, 2, 3], 'para', 'por']\n"
     ]
    }
   ],
   "source": [
    "# Usando extend\n",
    "\n",
    "lista_inicial.extend(nuevos_elementos)\n",
    "\n",
    "print(lista_inicial)\n"
   ]
  },
  {
   "cell_type": "code",
   "execution_count": 45,
   "metadata": {},
   "outputs": [
    {
     "data": {
      "text/plain": [
       "10"
      ]
     },
     "execution_count": 45,
     "metadata": {},
     "output_type": "execute_result"
    }
   ],
   "source": [
    "len(lista_inicial)"
   ]
  },
  {
   "cell_type": "code",
   "execution_count": 46,
   "metadata": {},
   "outputs": [
    {
     "data": {
      "text/plain": [
       "7"
      ]
     },
     "execution_count": 46,
     "metadata": {},
     "output_type": "execute_result"
    }
   ],
   "source": [
    "len(lista_inicial1)"
   ]
  },
  {
   "cell_type": "markdown",
   "metadata": {},
   "source": [
    "- Usando apend() --> Añade UN SOLO elemento al final de la lista. En este caso, añade la segunda lista como último elemento a la primera. \n",
    "- Usando extend() --> Añade los elementos de la segunda lista UNO A UNO a la primera. "
   ]
  },
  {
   "cell_type": "code",
   "execution_count": 48,
   "metadata": {},
   "outputs": [
    {
     "name": "stdout",
     "output_type": "stream",
     "text": [
      "['Marianela', 'Jazmin', 'Hans', 'Coco', 'Benito']\n"
     ]
    }
   ],
   "source": [
    " # 20. Insertar un elemento en una posición específica. \n",
    " # Dada una lista, inserta un nuevo elemento en una posición específica determinada por el usuario (debereis usar la función input para preguntar al usuario en que posición quiere insertar el elemento).\n",
    " \n",
    "posicion = int(input('Inserta la posición dónde quieres introducir el nuevo elemento:'))\n",
    "\n",
    "mega_lista = [\"Marianela\", \"Jazmin\", \"Coco\", \"Benito\"]\n",
    "\n",
    "mega_lista.insert(posicion, \"Hans\")\n",
    "\n",
    "print(mega_lista)"
   ]
  },
  {
   "cell_type": "code",
   "execution_count": null,
   "metadata": {},
   "outputs": [
    {
     "name": "stdout",
     "output_type": "stream",
     "text": [
      "False\n"
     ]
    }
   ],
   "source": [
    "# 21. Verificar si un elemento está presente en una lista. Dada una lista, verifica si un elemento específico está presente en ella. \n",
    "# Igual que el caso anterior, debereis preguntar al usuario que elemento quiere buscar en la lista. El resultado deberá ser True o False.\n",
    "\n",
    "elemento = input('Inserta el elemento que quieres buscar:')\n",
    "\n",
    "print(elemento in mega_lista)"
   ]
  },
  {
   "cell_type": "code",
   "execution_count": 51,
   "metadata": {},
   "outputs": [
    {
     "name": "stdout",
     "output_type": "stream",
     "text": [
      "True\n"
     ]
    }
   ],
   "source": [
    "print(elemento not in mega_lista)"
   ]
  },
  {
   "cell_type": "code",
   "execution_count": null,
   "metadata": {},
   "outputs": [],
   "source": [
    "# 22. Manipulación de una lista utilizando remove(), pop() y clear()\n",
    "# Crea una lista inicial, realiza operaciones de eliminación y limpieza utilizando los métodos remove(), pop() y clear(), y observa cómo afectan a la lista\n"
   ]
  },
  {
   "cell_type": "code",
   "execution_count": 52,
   "metadata": {},
   "outputs": [
    {
     "name": "stdout",
     "output_type": "stream",
     "text": [
      "['Marianela', 'Hans', 'Coco', 'Benito']\n"
     ]
    }
   ],
   "source": [
    "# remove()\n",
    "\n",
    "mega_lista.remove(\"Jazmin\")\n",
    "\n",
    "print(mega_lista)"
   ]
  },
  {
   "cell_type": "code",
   "execution_count": 53,
   "metadata": {},
   "outputs": [
    {
     "name": "stdout",
     "output_type": "stream",
     "text": [
      "['Marianela', 'Hans', 'Benito']\n"
     ]
    }
   ],
   "source": [
    "# pop()\n",
    "\n",
    "mega_lista.pop(2)\n",
    "\n",
    "print(mega_lista)"
   ]
  },
  {
   "cell_type": "code",
   "execution_count": 54,
   "metadata": {},
   "outputs": [
    {
     "name": "stdout",
     "output_type": "stream",
     "text": [
      "['Marianela', 'Hans']\n"
     ]
    }
   ],
   "source": [
    "mega_lista.pop()\n",
    "\n",
    "print(mega_lista)"
   ]
  },
  {
   "cell_type": "code",
   "execution_count": 55,
   "metadata": {},
   "outputs": [
    {
     "data": {
      "text/plain": [
       "[]"
      ]
     },
     "execution_count": 55,
     "metadata": {},
     "output_type": "execute_result"
    }
   ],
   "source": [
    "# clear()\n",
    "\n",
    "mega_lista.clear()\n",
    "\n",
    "mega_lista"
   ]
  },
  {
   "cell_type": "code",
   "execution_count": 56,
   "metadata": {},
   "outputs": [
    {
     "data": {
      "text/plain": [
       "[]"
      ]
     },
     "execution_count": 56,
     "metadata": {},
     "output_type": "execute_result"
    }
   ],
   "source": [
    "mega_lista \n"
   ]
  },
  {
   "cell_type": "markdown",
   "metadata": {},
   "source": [
    "# Tuplas"
   ]
  },
  {
   "cell_type": "code",
   "execution_count": 57,
   "metadata": {},
   "outputs": [],
   "source": [
    "mi_tupla = (\"Jazmin\", \"Marianela\", \"Hans\", \"Cesar\")"
   ]
  },
  {
   "cell_type": "code",
   "execution_count": 58,
   "metadata": {},
   "outputs": [
    {
     "data": {
      "text/plain": [
       "('Jazmin',\n",
       " 'Marianela',\n",
       " 'Hans',\n",
       " 'Cesar',\n",
       " 'Jazmin',\n",
       " 'Marianela',\n",
       " 'Hans',\n",
       " 'Cesar')"
      ]
     },
     "execution_count": 58,
     "metadata": {},
     "output_type": "execute_result"
    }
   ],
   "source": [
    "# 1. Acceder al primer elemento de una tupla. Descripción: Dada una tupla, obtén el primer elemento.\n",
    "\n",
    "mi_tupla2 = (\"Jazmin\", \"Marianela\", \"Hans\", \"Cesar\") \n",
    "\n",
    "tupla = mi_tupla + mi_tupla2\n",
    "\n",
    "tupla"
   ]
  }
 ],
 "metadata": {
  "kernelspec": {
   "display_name": "base",
   "language": "python",
   "name": "python3"
  },
  "language_info": {
   "codemirror_mode": {
    "name": "ipython",
    "version": 3
   },
   "file_extension": ".py",
   "mimetype": "text/x-python",
   "name": "python",
   "nbconvert_exporter": "python",
   "pygments_lexer": "ipython3",
   "version": "3.12.7"
  }
 },
 "nbformat": 4,
 "nbformat_minor": 2
}
