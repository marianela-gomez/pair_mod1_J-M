{
 "cells": [
  {
   "cell_type": "markdown",
   "metadata": {},
   "source": [
    "# Ejercicios if-else"
   ]
  },
  {
   "cell_type": "code",
   "execution_count": 3,
   "metadata": {},
   "outputs": [
    {
     "name": "stdout",
     "output_type": "stream",
     "text": [
      "El número es 0\n"
     ]
    }
   ],
   "source": [
    "\"\"\" Verificar si un número es positivo, negativo o cero\n",
    "\n",
    "Descripción: Dado un número, verifica si es positivo, negativo o cero.\"\"\" \n",
    "\n",
    "num = int(input(\"Introduce un número\"))\n",
    "\n",
    "if num > 0:\n",
    "    print(\"El número es positivo\")\n",
    "elif num < 0:\n",
    "    print(\"El número es negativo\")\n",
    "else: \n",
    "    print(\"El número es 0\")"
   ]
  },
  {
   "cell_type": "code",
   "execution_count": 8,
   "metadata": {},
   "outputs": [
    {
     "name": "stdout",
     "output_type": "stream",
     "text": [
      "El número es par\n"
     ]
    }
   ],
   "source": [
    "\"\"\"Verificar si un número es par o impar\n",
    "\n",
    "Descripción: Dado un número, verifica si es par o impar.\"\"\"\n",
    "\n",
    "num = int(input(\"Introduce un número\"))\n",
    "\n",
    "if num % 2 == 0:  # El residuo de divir un número par entre 2, siempre debe ser 0, porque la división es entera.\n",
    "    print(\"El número es par\")\n",
    "else: \n",
    "    print(\"El número es impar\")"
   ]
  },
  {
   "cell_type": "code",
   "execution_count": 11,
   "metadata": {},
   "outputs": [
    {
     "name": "stdout",
     "output_type": "stream",
     "text": [
      "El alumno aprobó el examen\n"
     ]
    }
   ],
   "source": [
    "\"\"\"Verificar si un estudiante aprobó o suspendió un examen\n",
    "\n",
    "Descripción: Dada la calificación de un estudiante en un examen, verifica si aprobó o suspendió (si la calificación es mayor o igual a 60 se considera aprobado).\"\"\"\n",
    "\n",
    "nota = int(input(\"Introduce la nota del examen\"))\n",
    "\n",
    "if nota >= 60:\n",
    "    print(\"El alumno aprobó el examen\")\n",
    "else: \n",
    "    print(\"El alumno ha suspendido\")"
   ]
  },
  {
   "cell_type": "code",
   "execution_count": 14,
   "metadata": {},
   "outputs": [
    {
     "name": "stdout",
     "output_type": "stream",
     "text": [
      "Los números son iguales\n"
     ]
    }
   ],
   "source": [
    "\"\"\"Calcular el máximo entre dos números\n",
    "\n",
    "Descripción: Dados dos números, encuentra el máximo entre ellos.\"\"\"\n",
    "\n",
    "num1 = int(input(\"Introduce el primer número\"))\n",
    "\n",
    "num2 = int(input(\"Introduce el segundo número\"))\n",
    "\n",
    "if num1 > num2:\n",
    "    print(f'El {num1} es el máximo')\n",
    "elif num2 > num1:\n",
    "    print(f'El {num2} es el máximo')\n",
    "else:\n",
    "    print(\"Los números son iguales\")\n"
   ]
  },
  {
   "cell_type": "code",
   "execution_count": 20,
   "metadata": {},
   "outputs": [
    {
     "name": "stdout",
     "output_type": "stream",
     "text": [
      "Tu letra es una consonante\n"
     ]
    }
   ],
   "source": [
    "\"\"\"Verificar si una letra es una vocal o una consonante\n",
    "\n",
    "Descripción: Dada una letra, verifica si es una vocal o una consonante.\"\"\"\n",
    "\n",
    "letra = input(\"Introduce una letra\").lower() # Añadiendo lower() a la cadena inroducida con input, el códigop funcionará si se introduce una mayúscula\n",
    "\n",
    "vocales = [\"a\", \"e\", \"i\", \"o\", \"u\"]\n",
    "\n",
    "if letra in vocales:\n",
    "    print(\"Tu letra es una vocal\")\n",
    "else: \n",
    "    print(\"Tu letra es una consonante\")"
   ]
  },
  {
   "cell_type": "code",
   "execution_count": null,
   "metadata": {},
   "outputs": [
    {
     "name": "stdout",
     "output_type": "stream",
     "text": [
      "No aplica ningún descuento\n"
     ]
    }
   ],
   "source": [
    "\"\"\"Calcular el descuento en una compra según el monto total\n",
    "\n",
    "Descripción: Dado el monto total de una compra, calcula el descuento aplicado según las siguientes condiciones: \n",
    "si el monto es mayor o igual a $100, aplica un descuento del 10%; de lo contrario, no aplica ningún descuento.\"\"\"\n",
    "\n",
    "total = int(input(\"Introduce el importe de la compra\"))\n",
    "\n",
    "if total >= 100:\n",
    "    total -= total * 0.1 # Equivale a hacer: descuento = total * 0.1 y total = total - descuento.\n",
    "else: \n",
    "    print(\"No aplica ningún descuento\")"
   ]
  },
  {
   "cell_type": "code",
   "execution_count": 25,
   "metadata": {},
   "outputs": [
    {
     "data": {
      "text/plain": [
       "50"
      ]
     },
     "execution_count": 25,
     "metadata": {},
     "output_type": "execute_result"
    }
   ],
   "source": [
    "total "
   ]
  },
  {
   "cell_type": "code",
   "execution_count": 45,
   "metadata": {},
   "outputs": [
    {
     "name": "stdout",
     "output_type": "stream",
     "text": [
      "El año es bisiesto\n"
     ]
    }
   ],
   "source": [
    "\"\"\"Verificar si un año es bisiesto o no\n",
    "\n",
    "Descripción: Dado un año, verifica si es bisiesto o no (un año es bisiesto si es divisible entre 4, excepto aquellos divisibles entre 100 pero no entre 400).\"\"\"\n",
    "\n",
    "año = int(input(\"Introduce un año\"))\n",
    "\n",
    "if año % 4 == 0 or año % 400 == 0: # Si el año es bisiesto debe ser múltiplo de 4, excepto el 100. Para que sea bisiesto, o bien es divisible entre 4 o bien entre 400.\n",
    "    print(\"El año es bisiesto\")\n",
    "elif año % 100 != 0:\n",
    "     print(\"El año no es bisiesto\") \n",
    "else: \n",
    "    print(\"Algo no cuadra\")"
   ]
  },
  {
   "cell_type": "markdown",
   "metadata": {},
   "source": [
    "Años bisiestos: \n",
    "\n",
    "2012\n",
    "\n",
    "2016\n",
    "\n",
    "2020\n",
    "\n",
    "2024\n",
    "\n",
    "2028\n",
    "\n",
    "2032\n",
    "\n",
    "2036"
   ]
  },
  {
   "cell_type": "code",
   "execution_count": 50,
   "metadata": {},
   "outputs": [
    {
     "name": "stdout",
     "output_type": "stream",
     "text": [
      "Es un adulto\n"
     ]
    }
   ],
   "source": [
    "\"\"\"Asignar una categoría a una edad\n",
    "\n",
    "Descripción: Dada una edad, asigna una categoría según las siguientes condiciones: \n",
    "si la edad es menor de 18, la categoría es \"Menor de edad\"; si la edad está entre 18 y 64 (incluyendo ambos), la categoría es \"Adulto\"; de lo contrario, la categoría es \"Adulto mayor\".\"\"\"\n",
    "\n",
    "edad = int(input(\"Introduce un año\"))\n",
    "\n",
    "if edad < 18:\n",
    "    print(\"Es un menor\")\n",
    "elif edad == 18 or edad <= 64:\n",
    "    print(\"Es un adulto\")\n",
    "else:\n",
    "    print(\"Es un adulto mayor\")\n",
    "        "
   ]
  },
  {
   "cell_type": "code",
   "execution_count": null,
   "metadata": {},
   "outputs": [],
   "source": [
    "# Se han creado 3 listas vacías, una para cada categoría de edad. De esta forma, en lugar de imprimir la categoría, añade la edad a una lista. \n",
    "\n",
    "menor = []\n",
    "adulto = []\n",
    "adulto_mayor = []\n",
    "\n",
    "edad = int(input(\"Introduce un año\"))\n",
    "\n",
    "if edad < 18:\n",
    "    menor.append(edad)\n",
    "elif edad == 18 or edad <= 64:\n",
    "    adulto.append(edad)\n",
    "else:\n",
    "    adulto_mayor.append(edad)\n"
   ]
  },
  {
   "cell_type": "code",
   "execution_count": 56,
   "metadata": {},
   "outputs": [
    {
     "name": "stdout",
     "output_type": "stream",
     "text": [
      "El triángulo es rectángulo\n"
     ]
    }
   ],
   "source": [
    "\"\"\"Verificar si tres números forman un triángulo rectángulo\n",
    "\n",
    "Descripción: Dados tres números, verifica si forman un triángulo rectángulo (si se cumple el teorema de Pitágoras). \n",
    "\n",
    "El teorema de Pitágoras es hipotenusa^2 = cateto1^2 + cateto2^2\"\"\"\n",
    "\n",
    "hipotenusa= float(input(\"Introduce la hipotenusa\")) \n",
    "cateto1 = float(input(\"Introduce un cateto\"))\n",
    "cateto2 = float(input(\"Introduce otro cateto\"))\n",
    "\n",
    "suma_cuadrados = cateto1 ** 2 + cateto2 ** 2\n",
    "\n",
    "if hipotenusa ** 2 == suma_cuadrados:\n",
    "    print(\"El triángulo es rectángulo\")\n",
    "else:\n",
    "    print(\"El triángulo no es rectángulo\")\n"
   ]
  },
  {
   "cell_type": "code",
   "execution_count": null,
   "metadata": {},
   "outputs": [],
   "source": [
    "# ¿Qué pasa si metemos 3 números sin saber cuál es qué?\n",
    "\n",
    "num1 = float(input(\"Introduce un número\")) \n",
    "num2 = float(input(\"Introduce un número\"))\n",
    "num3 = float(input(\"Introduce un número\"))\n",
    "\n",
    "hipotenusa ** 2 = cateto1 ** 2 + cateto2 ** 2\n",
    "\n",
    "if num1 == hipotenusa:"
   ]
  },
  {
   "cell_type": "code",
   "execution_count": null,
   "metadata": {},
   "outputs": [],
   "source": []
  }
 ],
 "metadata": {
  "kernelspec": {
   "display_name": "base",
   "language": "python",
   "name": "python3"
  },
  "language_info": {
   "codemirror_mode": {
    "name": "ipython",
    "version": 3
   },
   "file_extension": ".py",
   "mimetype": "text/x-python",
   "name": "python",
   "nbconvert_exporter": "python",
   "pygments_lexer": "ipython3",
   "version": "3.12.7"
  }
 },
 "nbformat": 4,
 "nbformat_minor": 2
}
