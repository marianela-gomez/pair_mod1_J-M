{
 "cells": [
  {
   "cell_type": "markdown",
   "metadata": {},
   "source": [
    "# Ejercicios `if-else`"
   ]
  },
  {
   "cell_type": "code",
   "execution_count": 1,
   "metadata": {},
   "outputs": [
    {
     "name": "stdout",
     "output_type": "stream",
     "text": [
      "El número es positivo\n"
     ]
    }
   ],
   "source": [
    "\"\"\" Verificar si un número es positivo, negativo o cero\n",
    "\n",
    "Descripción: Dado un número, verifica si es positivo, negativo o cero.\"\"\" \n",
    "\n",
    "num = int(input(\"Introduce un número\"))\n",
    "\n",
    "if num > 0:\n",
    "    print(\"El número es positivo\")\n",
    "elif num < 0:\n",
    "    print(\"El número es negativo\")\n",
    "else: \n",
    "    print(\"El número es 0\")"
   ]
  },
  {
   "cell_type": "code",
   "execution_count": 2,
   "metadata": {},
   "outputs": [
    {
     "name": "stdout",
     "output_type": "stream",
     "text": [
      "El número es impar\n"
     ]
    }
   ],
   "source": [
    "\"\"\"Verificar si un número es par o impar\n",
    "\n",
    "Descripción: Dado un número, verifica si es par o impar.\"\"\"\n",
    "\n",
    "num = int(input(\"Introduce un número\"))\n",
    "\n",
    "if num % 2 == 0:  # El residuo de divir un número par entre 2, siempre debe ser 0, porque la división es entera.\n",
    "    print(\"El número es par\")\n",
    "else: \n",
    "    print(\"El número es impar\")"
   ]
  },
  {
   "cell_type": "code",
   "execution_count": 3,
   "metadata": {},
   "outputs": [
    {
     "name": "stdout",
     "output_type": "stream",
     "text": [
      "El alumno aprobó el examen\n"
     ]
    }
   ],
   "source": [
    "\"\"\"Verificar si un estudiante aprobó o suspendió un examen\n",
    "\n",
    "Descripción: Dada la calificación de un estudiante en un examen, verifica si aprobó o suspendió (si la calificación es mayor o igual a 60 se considera aprobado).\"\"\"\n",
    "\n",
    "nota = int(input(\"Introduce la nota del examen\"))\n",
    "\n",
    "if nota >= 60:\n",
    "    print(\"El alumno aprobó el examen\")\n",
    "else: \n",
    "    print(\"El alumno ha suspendido\")"
   ]
  },
  {
   "cell_type": "code",
   "execution_count": 4,
   "metadata": {},
   "outputs": [
    {
     "name": "stdout",
     "output_type": "stream",
     "text": [
      "El 421 es el máximo\n"
     ]
    }
   ],
   "source": [
    "\"\"\"Calcular el máximo entre dos números\n",
    "\n",
    "Descripción: Dados dos números, encuentra el máximo entre ellos.\"\"\"\n",
    "\n",
    "num1 = int(input(\"Introduce el primer número\"))\n",
    "\n",
    "num2 = int(input(\"Introduce el segundo número\"))\n",
    "\n",
    "if num1 > num2:\n",
    "    print(f'El {num1} es el máximo')\n",
    "elif num2 > num1:\n",
    "    print(f'El {num2} es el máximo')\n",
    "else:\n",
    "    print(\"Los números son iguales\")\n"
   ]
  },
  {
   "cell_type": "code",
   "execution_count": 5,
   "metadata": {},
   "outputs": [
    {
     "name": "stdout",
     "output_type": "stream",
     "text": [
      "Tu letra es una consonante\n"
     ]
    }
   ],
   "source": [
    "\"\"\"Verificar si una letra es una vocal o una consonante\n",
    "\n",
    "Descripción: Dada una letra, verifica si es una vocal o una consonante.\"\"\"\n",
    "\n",
    "letra = input(\"Introduce una letra\").lower() # Añadiendo lower() a la cadena inroducida con input, el códigop funcionará si se introduce una mayúscula\n",
    "\n",
    "vocales = [\"a\", \"e\", \"i\", \"o\", \"u\"]\n",
    "\n",
    "if letra in vocales:\n",
    "    print(\"Tu letra es una vocal\")\n",
    "else: \n",
    "    print(\"Tu letra es una consonante\")"
   ]
  },
  {
   "cell_type": "code",
   "execution_count": 6,
   "metadata": {},
   "outputs": [],
   "source": [
    "\"\"\"Calcular el descuento en una compra según el monto total\n",
    "\n",
    "Descripción: Dado el monto total de una compra, calcula el descuento aplicado según las siguientes condiciones: \n",
    "si el monto es mayor o igual a $100, aplica un descuento del 10%; de lo contrario, no aplica ningún descuento.\"\"\"\n",
    "\n",
    "total = int(input(\"Introduce el importe de la compra\"))\n",
    "\n",
    "if total >= 100:\n",
    "    total -= total * 0.1 # Equivale a hacer: descuento = total * 0.1 y total = total - descuento.\n",
    "    print(f\"El importe con el descuento es {total}\")\n",
    "else: \n",
    "    print(\"No aplica ningún descuento\")"
   ]
  },
  {
   "cell_type": "code",
   "execution_count": 7,
   "metadata": {},
   "outputs": [
    {
     "data": {
      "text/plain": [
       "88692.3"
      ]
     },
     "execution_count": 7,
     "metadata": {},
     "output_type": "execute_result"
    }
   ],
   "source": [
    "total "
   ]
  },
  {
   "cell_type": "code",
   "execution_count": 8,
   "metadata": {},
   "outputs": [
    {
     "name": "stdout",
     "output_type": "stream",
     "text": [
      "El año no es bisiesto\n"
     ]
    }
   ],
   "source": [
    "\"\"\"Verificar si un año es bisiesto o no\n",
    "\n",
    "Descripción: Dado un año, verifica si es bisiesto o no (un año es bisiesto si es divisible entre 4, excepto aquellos divisibles entre 100 pero no entre 400).\"\"\"\n",
    "\n",
    "año = int(input(\"Introduce un año\"))\n",
    "\n",
    "if año % 4 == 0 or año % 400 == 0: # Si el año es bisiesto debe ser múltiplo de 4, excepto el 100. Para que sea bisiesto, o bien es divisible entre 4 o bien entre 400.\n",
    "    print(\"El año es bisiesto\")\n",
    "elif año % 100 != 0:\n",
    "     print(\"El año no es bisiesto\") \n",
    "else: \n",
    "    print(\"Algo no cuadra\")"
   ]
  },
  {
   "cell_type": "markdown",
   "metadata": {},
   "source": [
    "Años bisiestos: \n",
    "\n",
    "2012\n",
    "\n",
    "2016\n",
    "\n",
    "2020\n",
    "\n",
    "2024\n",
    "\n",
    "2028\n",
    "\n",
    "2032\n",
    "\n",
    "2036"
   ]
  },
  {
   "cell_type": "code",
   "execution_count": 9,
   "metadata": {},
   "outputs": [
    {
     "name": "stdout",
     "output_type": "stream",
     "text": [
      "Es un adulto mayor\n"
     ]
    }
   ],
   "source": [
    "\"\"\"Asignar una categoría a una edad\n",
    "\n",
    "Descripción: Dada una edad, asigna una categoría según las siguientes condiciones: \n",
    "si la edad es menor de 18, la categoría es \"Menor de edad\"; si la edad está entre 18 y 64 (incluyendo ambos), la categoría es \"Adulto\"; de lo contrario, la categoría es \"Adulto mayor\".\"\"\"\n",
    "\n",
    "edad = int(input(\"Introduce un año\"))\n",
    "\n",
    "if edad < 18:\n",
    "    print(\"Es un menor\")\n",
    "elif edad == 18 or edad <= 64:\n",
    "    print(\"Es un adulto\")\n",
    "else:\n",
    "    print(\"Es un adulto mayor\")\n",
    "        "
   ]
  },
  {
   "cell_type": "code",
   "execution_count": null,
   "metadata": {},
   "outputs": [],
   "source": [
    "# Se han creado 3 listas vacías, una para cada categoría de edad. De esta forma, en lugar de imprimir la categoría, añade la edad a una lista. \n",
    "\n",
    "menor = []\n",
    "adulto = []\n",
    "adulto_mayor = []\n",
    "\n",
    "edad = int(input(\"Introduce un año\"))\n",
    "\n",
    "if edad < 18:\n",
    "    menor.append(edad)\n",
    "elif edad == 18 or edad <= 64:\n",
    "    adulto.append(edad)\n",
    "else:\n",
    "    adulto_mayor.append(edad)\n"
   ]
  },
  {
   "cell_type": "code",
   "execution_count": 10,
   "metadata": {},
   "outputs": [
    {
     "name": "stdout",
     "output_type": "stream",
     "text": [
      "El triángulo es rectángulo\n"
     ]
    }
   ],
   "source": [
    "\"\"\"Verificar si tres números forman un triángulo rectángulo\n",
    "\n",
    "Descripción: Dados tres números, verifica si forman un triángulo rectángulo (si se cumple el teorema de Pitágoras). \n",
    "\n",
    "El teorema de Pitágoras es hipotenusa^2 = cateto1^2 + cateto2^2\"\"\"\n",
    "\n",
    "hipotenusa= float(input(\"Introduce la hipotenusa\")) \n",
    "cateto1 = float(input(\"Introduce un cateto\"))\n",
    "cateto2 = float(input(\"Introduce otro cateto\"))\n",
    "\n",
    "suma_cuadrados = cateto1 ** 2 + cateto2 ** 2\n",
    "\n",
    "if hipotenusa ** 2 == suma_cuadrados:\n",
    "    print(\"El triángulo es rectángulo\")\n",
    "else:\n",
    "    print(\"El triángulo no es rectángulo\")\n"
   ]
  },
  {
   "cell_type": "markdown",
   "metadata": {},
   "source": [
    "¿Qué pasa si metemos 3 números sin saber cuál es qué?"
   ]
  },
  {
   "cell_type": "code",
   "execution_count": null,
   "metadata": {},
   "outputs": [
    {
     "name": "stdout",
     "output_type": "stream",
     "text": [
      "Has insertado el lado 1: 5.0\n",
      "Has insertado el lado 2: 4.0\n",
      "Has insertado el lado 3: 3.0\n",
      "==============================\n",
      "La hipotenusa es 5.0\n",
      "Los catetos son 4.0 3.0\n",
      "Has construido un triángulo rectángulo\n"
     ]
    }
   ],
   "source": [
    "# A partir del código que me pasó Sandra\n",
    "\n",
    "num1 = float(input(\"Inserta un número\"))\n",
    "print(f\"Has insertado el lado 1: {num1}\")\n",
    "\n",
    "num2 = float(input(\"Inserta un número\"))\n",
    "print(f\"Has insertado el lado 2: {num2}\")\n",
    "\n",
    "num3 = float(input(\"Inserta un número\"))\n",
    "print(f\"Has insertado el lado 3: {num3}\")\n",
    "\n",
    "print(\"=\" * 40)\n",
    "\n",
    "lados = [num1, num2, num3]\n",
    "hipotenusa = max(lados)\n",
    "print(f\"La hipotenusa es {hipotenusa}\")\n",
    "lados.remove(hipotenusa)\n",
    "\n",
    "print(f\"Los catetos son {lados[0]} {lados[1]}\")\n",
    "\n",
    "if hipotenusa ** 2 == lados[0] ** 2 + lados[1] ** 2:\n",
    "    print(\"Has construido un triángulo rectángulo\")\n",
    "else:\n",
    "    print(\"El triángulo formado por los números introducidos no es rectángulo\")"
   ]
  },
  {
   "cell_type": "code",
   "execution_count": null,
   "metadata": {},
   "outputs": [
    {
     "name": "stdout",
     "output_type": "stream",
     "text": [
      "Has insertado el lado 1: 38.0\n",
      "Has insertado el lado 2: 54.0\n",
      "Has insertado el lado 3: 67.0\n",
      "========================================\n",
      "La hipotenusa es 67.0\n",
      "El triángulo formado por los números introducidos no es rectángulo\n"
     ]
    }
   ],
   "source": [
    "# Otra forma (menos elegante)\n",
    "\n",
    "num1 = float(input(\"Inserta un número\"))\n",
    "print(f\"Has insertado el lado 1: {num1}\")\n",
    "\n",
    "num2 = float(input(\"Inserta un número\"))\n",
    "print(f\"Has insertado el lado 2: {num2}\")\n",
    "\n",
    "num3 = float(input(\"Inserta un número\"))\n",
    "print(f\"Has insertado el lado 3: {num3}\")\n",
    "\n",
    "print(\"=\" * 40)\n",
    "\n",
    "if num1 > num2 and num1 > num3:\n",
    "    print(f\"La hipotenusa es {num1}\")\n",
    "    hipotenusa = num1\n",
    "    cateto1 = num2\n",
    "    cateto2 = num3\n",
    "elif num2 > num3 and num2 > num1:\n",
    "    print(f\"La hipotenusa es {num2}\")\n",
    "    hipotenusa = num2\n",
    "    cateto1 = num1\n",
    "    cateto2 = num3\n",
    "elif num3 > num1 and num3 > num2:\n",
    "    print(f\"La hipotenusa es {num3}\")\n",
    "    hipotenusa = num3\n",
    "    cateto1 = num1\n",
    "    cateto2 = num2\n",
    "    \n",
    "if hipotenusa ** 2 == cateto1 ** 2 + cateto2 ** 2:\n",
    "    print(\"Has construido un triángulo rectángulo\")\n",
    "else:\n",
    "    print(\"El triángulo formado por los números introducidos no es rectángulo\")"
   ]
  },
  {
   "cell_type": "code",
   "execution_count": null,
   "metadata": {},
   "outputs": [],
   "source": [
    "\"\"\"Calcular el mayor de tres números\n",
    "\n",
    "Descripción: Dados tres números, encuentra el mayor entre ellos.\"\"\"\n",
    "\n",
    "num1 = float(input(\"Inserta un número\"))\n",
    "print(f\"Has insertado {num1}\")\n",
    "\n",
    "num2 = float(input(\"Inserta un número\"))\n",
    "print(f\"Has insertado {num2}\")\n",
    "\n",
    "num3 = float(input(\"Inserta un número\"))\n",
    "print(f\"Has insertado {num3}\")\n",
    "\n",
    "numeros = [num1, num2, num3]\n",
    "\n",
    "maximo = max(numeros)\n"
   ]
  },
  {
   "cell_type": "markdown",
   "metadata": {},
   "source": [
    "# Ejercicios `while`"
   ]
  },
  {
   "cell_type": "code",
   "execution_count": 16,
   "metadata": {},
   "outputs": [
    {
     "name": "stdout",
     "output_type": "stream",
     "text": [
      "55\n"
     ]
    }
   ],
   "source": [
    "\"\"\"Calcular la suma de los primeros 10 números naturales utilizando un bucle while\n",
    "\n",
    "Descripción: Utiliza un bucle while para calcular la suma de los primeros 10 números naturales (1 + 2 + 3 + ... + 10).\"\"\"\n",
    "\n",
    "num_nat = []\n",
    "contador = 0\n",
    "\n",
    "while contador < 10:\n",
    "    contador += 1\n",
    "    num_nat.append(contador)\n",
    "print(sum(num_nat))\n",
    "    \n",
    "    "
   ]
  },
  {
   "cell_type": "code",
   "execution_count": 25,
   "metadata": {},
   "outputs": [
    {
     "name": "stdout",
     "output_type": "stream",
     "text": [
      "Tienes 3 intentos\n",
      "Has marcado 30, has fallado\n",
      "Tienes 2 intentos\n",
      "Has marcado 84, has fallado\n",
      "Tienes 1 intentos\n",
      "Has marcado 69, has fallado\n",
      "Te has quedado sin intentos, el número era 93\n"
     ]
    }
   ],
   "source": [
    "\"\"\"Juego de adivinanza utilizando un bucle while\n",
    "\n",
    "Descripción: Crea un juego de adivinanza en el que el jugador tiene que adivinar un número secreto \n",
    "(tendrá que ser entre el 0 y el 10).\n",
    "Utiliza un bucle while para permitir múltiples intentos hasta que el jugador adivine correctamente.\"\"\"\n",
    "\n",
    "import random \n",
    "\n",
    "num = random.randint(a = 0, b = 100)\n",
    "intentos = 3\n",
    "\n",
    "while intentos > 0:\n",
    "  print(f\"Tienes {intentos} intentos\")\n",
    "  intentos -= 1\n",
    "  opcion = int(input(\"Introduce un número del 0 al 100\"))\n",
    "  if num == opcion:\n",
    "    print(f\"Has marcado {opcion}, has acertado\")\n",
    "    break\n",
    "  else:\n",
    "    print(f\"Has marcado {opcion}, has fallado\")\n",
    "if intentos == 0:\n",
    "  print(f\"Te has quedado sin intentos, el número era {num}\")\n",
    "\n"
   ]
  }
 ],
 "metadata": {
  "kernelspec": {
   "display_name": "base",
   "language": "python",
   "name": "python3"
  },
  "language_info": {
   "codemirror_mode": {
    "name": "ipython",
    "version": 3
   },
   "file_extension": ".py",
   "mimetype": "text/x-python",
   "name": "python",
   "nbconvert_exporter": "python",
   "pygments_lexer": "ipython3",
   "version": "3.12.7"
  }
 },
 "nbformat": 4,
 "nbformat_minor": 2
}
